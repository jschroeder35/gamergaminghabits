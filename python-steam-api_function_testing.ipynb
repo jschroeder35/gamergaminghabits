{
 "cells": [
  {
   "cell_type": "markdown",
   "id": "b5842f82",
   "metadata": {},
   "source": [
    "Following the instructions from https://pypi.org/project/python-steam-api/. I got my Steam API key from https://pypi.org/project/python-steam-api/ and pasted it into a text file."
   ]
  },
  {
   "cell_type": "code",
   "execution_count": 1,
   "id": "718c9857",
   "metadata": {},
   "outputs": [],
   "source": [
    "from steam import Steam\n",
    "from decouple import config\n",
    "\n",
    "with open(\"myapikey.txt\", \"r\") as file:\n",
    "    myapikey=file.read()\n",
    "    \n",
    "import os\n",
    "os.environ[\"STEAM_API_KEY\"] = myapikey\n",
    "KEY = config(\"STEAM_API_KEY\")\n",
    "steam = Steam(KEY)"
   ]
  },
  {
   "cell_type": "code",
   "execution_count": null,
   "id": "6b2ba875",
   "metadata": {},
   "outputs": [],
   "source": [
    "testuser=\"steamusername\"\n",
    "steam.users.search_user(testuser)"
   ]
  },
  {
   "cell_type": "code",
   "execution_count": 3,
   "id": "a2290c2d",
   "metadata": {},
   "outputs": [
    {
     "data": {
      "text/plain": [
       "'76561198039393086'"
      ]
     },
     "execution_count": 3,
     "metadata": {},
     "output_type": "execute_result"
    }
   ],
   "source": [
    "testid=steam.users.search_user(testuser)['player']['steamid']\n",
    "testid"
   ]
  },
  {
   "cell_type": "code",
   "execution_count": null,
   "id": "cf9ce450",
   "metadata": {},
   "outputs": [],
   "source": [
    "testfl=steam.users.get_user_friends_list(testid)\n",
    "testfl"
   ]
  },
  {
   "cell_type": "code",
   "execution_count": 5,
   "id": "abc2b888",
   "metadata": {
    "scrolled": true
   },
   "outputs": [
    {
     "data": {
      "text/plain": [
       "['76561198024952241',\n",
       " '76561198063841652',\n",
       " '76561198167166225',\n",
       " '76561198089121952',\n",
       " '76561198009190429',\n",
       " '76561198044477096',\n",
       " '76561198018947486',\n",
       " '76561198052932070',\n",
       " '76561197993353177',\n",
       " '76561198015023147',\n",
       " '76561198007701968',\n",
       " '76561198050495521',\n",
       " '76561198007395908',\n",
       " '76561198055623603',\n",
       " '76561198041103618',\n",
       " '76561197996430741',\n",
       " '76561197995248893',\n",
       " '76561198284261819',\n",
       " '76561198052390135',\n",
       " '76561198014795926',\n",
       " '76561198025017304',\n",
       " '76561198076172962',\n",
       " '76561198048895718',\n",
       " '76561198010127100',\n",
       " '76561198074139361',\n",
       " '76561198042351806']"
      ]
     },
     "execution_count": 5,
     "metadata": {},
     "output_type": "execute_result"
    }
   ],
   "source": [
    "testflids=[]\n",
    "\n",
    "for i in range(len(testfl['friends'])):\n",
    "    testflids.append(testfl['friends'][i]['steamid'])\n",
    "    \n",
    "testflids\n",
    "\n",
    "#yeah there's probably a way to do it with list comprehension"
   ]
  },
  {
   "cell_type": "code",
   "execution_count": 6,
   "id": "5f2dd832",
   "metadata": {},
   "outputs": [
    {
     "data": {
      "text/plain": [
       "{'total_count': 3,\n",
       " 'games': [{'appid': 524220,\n",
       "   'name': 'NieR:Automata™',\n",
       "   'playtime_2weeks': 73,\n",
       "   'playtime_forever': 769,\n",
       "   'img_icon_url': 'ec431ecb2a5178c5a01bb15550f112f93af029bb',\n",
       "   'playtime_windows_forever': 769,\n",
       "   'playtime_mac_forever': 0,\n",
       "   'playtime_linux_forever': 0},\n",
       "  {'appid': 1794680,\n",
       "   'name': 'Vampire Survivors',\n",
       "   'playtime_2weeks': 33,\n",
       "   'playtime_forever': 819,\n",
       "   'img_icon_url': 'b09d9a388f5328ec977f7b45228ac8ae21a78c55',\n",
       "   'playtime_windows_forever': 819,\n",
       "   'playtime_mac_forever': 0,\n",
       "   'playtime_linux_forever': 0},\n",
       "  {'appid': 39210,\n",
       "   'name': 'FINAL FANTASY XIV Online',\n",
       "   'playtime_2weeks': 1,\n",
       "   'playtime_forever': 75090,\n",
       "   'img_icon_url': '98527a5229540d86ced171d8a5dff2f8a560fe80',\n",
       "   'playtime_windows_forever': 71940,\n",
       "   'playtime_mac_forever': 0,\n",
       "   'playtime_linux_forever': 0}]}"
      ]
     },
     "execution_count": 6,
     "metadata": {},
     "output_type": "execute_result"
    }
   ],
   "source": [
    "testgamelist=steam.users.get_user_recently_played_games(testid)\n",
    "#for the full list should use steam.users.get_owned_games(testid)\n",
    "\n",
    "testgamelist"
   ]
  },
  {
   "cell_type": "code",
   "execution_count": 7,
   "id": "5fa4909d",
   "metadata": {},
   "outputs": [
    {
     "data": {
      "text/plain": [
       "[73, 33, 1]"
      ]
     },
     "execution_count": 7,
     "metadata": {},
     "output_type": "execute_result"
    }
   ],
   "source": [
    "hoursplayed=[]\n",
    "\n",
    "for i in range(testgamelist['total_count']):\n",
    "    hoursplayed.append(testgamelist['games'][i]['playtime_2weeks'])\n",
    "    \n",
    "hoursplayed"
   ]
  },
  {
   "cell_type": "code",
   "execution_count": 8,
   "id": "6cffa04b",
   "metadata": {},
   "outputs": [
    {
     "data": {
      "text/plain": [
       "[73,\n",
       " 33,\n",
       " 1,\n",
       " 2214,\n",
       " 68,\n",
       " 22,\n",
       " 2501,\n",
       " 1540,\n",
       " 82,\n",
       " 61,\n",
       " 904,\n",
       " 411,\n",
       " 109,\n",
       " 29,\n",
       " 256,\n",
       " 209,\n",
       " 63,\n",
       " 40,\n",
       " 16,\n",
       " 679,\n",
       " 10,\n",
       " 1871,\n",
       " 1086,\n",
       " 77,\n",
       " 8818,\n",
       " 1220,\n",
       " 955,\n",
       " 232,\n",
       " 668,\n",
       " 497,\n",
       " 37,\n",
       " 3062,\n",
       " 1292,\n",
       " 474,\n",
       " 1,\n",
       " 7,\n",
       " 405,\n",
       " 360,\n",
       " 359,\n",
       " 12,\n",
       " 3861,\n",
       " 128,\n",
       " 37,\n",
       " 1,\n",
       " 627,\n",
       " 2754,\n",
       " 1071,\n",
       " 6,\n",
       " 1229,\n",
       " 473,\n",
       " 390,\n",
       " 154,\n",
       " 61,\n",
       " 13,\n",
       " 2339]"
      ]
     },
     "execution_count": 8,
     "metadata": {},
     "output_type": "execute_result"
    }
   ],
   "source": [
    "for friend in testflids:\n",
    "    testgamelist2=steam.users.get_user_recently_played_games(friend)\n",
    "    if testgamelist2=={}: #these users might not have been on recently?\n",
    "        continue\n",
    "    if testgamelist2['total_count']>0:\n",
    "        for i in range(testgamelist2['total_count']):\n",
    "            hoursplayed.append(testgamelist2['games'][i]['playtime_2weeks'])\n",
    "        \n",
    "hoursplayed"
   ]
  },
  {
   "cell_type": "code",
   "execution_count": 9,
   "id": "56e0b621",
   "metadata": {},
   "outputs": [
    {
     "data": {
      "image/png": "[encoded data removed]",
      "text/plain": [
       "<Figure size 640x480 with 1 Axes>"
      ]
     },
     "metadata": {},
     "output_type": "display_data"
    }
   ],
   "source": [
    "import numpy as np\n",
    "import matplotlib.pyplot as plt\n",
    "\n",
    "plt.figure()\n",
    "plt.hist(np.asarray(hoursplayed)/60)\n",
    "plt.title('Hours on Steam from me and my friends in the past 2 weeks')\n",
    "plt.show()"
   ]
  },
  {
   "cell_type": "code",
   "execution_count": null,
   "id": "3f517bdb",
   "metadata": {},
   "outputs": [],
   "source": [
    "teststeamlib=steam.users.get_owned_games(testid)\n",
    "\n",
    "teststeamlib"
   ]
  },
  {
   "cell_type": "code",
   "execution_count": 11,
   "id": "17e8bc74",
   "metadata": {},
   "outputs": [
    {
     "data": {
      "text/plain": [
       "'{\"70\": {\"success\": true, \"data\": {\"type\": \"game\", \"name\": \"Half-Life\", \"steam_appid\": 70, \"required_age\": 0, \"is_free\": false, \"dlc\": [323130], \"detailed_description\": \"Named Game of the Year by over 50 publications, Valve\\'s debut title blends action and adventure with award-winning technology to create a frighteningly realistic world where players must think to survive. Also includes an exciting multiplayer mode that allows you to play against friends and enemies around the world.\", \"about_the_game\": \"Named Game of the Year by over 50 publications, Valve\\'s debut title blends action and adventure with award-winning technology to create a frighteningly realistic world where players must think to survive. Also includes an exciting multiplayer mode that allows you to play against friends and enemies around the world.\", \"short_description\": \"Named Game of the Year by over 50 publications, Valve\\'s debut title blends action and adventure with award-winning technology to create a frighteningly realistic world where players must think to survive. Also includes an exciting multiplayer mode that allows you to play against friends and enemies around the world.\", \"supported_languages\": \"English<strong>*</strong>, French<strong>*</strong>, German<strong>*</strong>, Italian<strong>*</strong>, Spanish - Spain<strong>*</strong>, Simplified Chinese<strong>*</strong>, Traditional Chinese<strong>*</strong>, Korean<strong>*</strong><br><strong>*</strong>languages with full audio support\", \"header_image\": \"https://cdn.akamai.steamstatic.com/steam/apps/70/header.jpg?t=1683302000\", \"website\": \"http://www.half-life.com/\", \"pc_requirements\": {\"minimum\": \"\\\\r\\\\n\\\\t\\\\t\\\\t<p><strong>Minimum:</strong> 500 mhz processor, 96mb ram, 16mb video card, Windows XP, Mouse, Keyboard, Internet Connection<br /></p>\\\\r\\\\n\\\\t\\\\t\\\\t<p><strong>Recommended:</strong> 800 mhz processor, 128mb ram, 32mb+ video card, Windows XP, Mouse, Keyboard, Internet Connection<br /></p>\\\\r\\\\n\\\\t\\\\t\\\\t\"}, \"mac_requirements\": {\"minimum\": \"Minimum: OS X  Snow Leopard 10.6.3, 1GB RAM, 4GB Hard Drive Space,NVIDIA GeForce 8 or higher, ATI X1600 or higher, or Intel HD 3000 or higher Mouse, Keyboard, Internet Connection\"}, \"linux_requirements\": {\"minimum\": \"Minimum: Linux Ubuntu 12.04, Dual-core from Intel or AMD at 2.8 GHz, 1GB Memory, nVidia GeForce 8600/9600GT, ATI/AMD Radeaon HD2600/3600 (Graphic Drivers: nVidia 310, AMD 12.11), OpenGL 2.1, 4GB Hard Drive Space, OpenAL Compatible Sound Card\"}, \"developers\": [\"Valve\"], \"publishers\": [\"Valve\"], \"price_overview\": {\"currency\": \"USD\", \"initial\": 999, \"final\": 999, \"discount_percent\": 0, \"initial_formatted\": \"\", \"final_formatted\": \"$9.99\"}, \"packages\": [34, 292347], \"package_groups\": [{\"name\": \"default\", \"title\": \"Buy Half-Life\", \"description\": \"\", \"selection_text\": \"Select a purchase option\", \"save_text\": \"\", \"display_type\": 0, \"is_recurring_subscription\": \"false\", \"subs\": [{\"packageid\": 34, \"percent_savings_text\": \" \", \"percent_savings\": 0, \"option_text\": \"Half-Life - $9.99\", \"option_description\": \"\", \"can_get_free_license\": \"0\", \"is_free_license\": false, \"price_in_cents_with_discount\": 999}, {\"packageid\": 292347, \"percent_savings_text\": \" \", \"percent_savings\": 0, \"option_text\": \"Half-Life - Commercial License - $9.99\", \"option_description\": \"\", \"can_get_free_license\": \"0\", \"is_free_license\": false, \"price_in_cents_with_discount\": 999}]}], \"platforms\": {\"windows\": true, \"mac\": true, \"linux\": true}, \"metacritic\": {\"score\": 96, \"url\": \"https://www.metacritic.com/game/pc/half-life?ftag=MCD-06-10aaa1f\"}, \"categories\": [{\"id\": 2, \"description\": \"Single-player\"}, {\"id\": 1, \"description\": \"Multi-player\"}, {\"id\": 49, \"description\": \"PvP\"}, {\"id\": 36, \"description\": \"Online PvP\"}, {\"id\": 23, \"description\": \"Steam Cloud\"}, {\"id\": 8, \"description\": \"Valve Anti-Cheat enabled\"}, {\"id\": 41, \"description\": \"Remote Play on Phone\"}, {\"id\": 42, \"description\": \"Remote Play on Tablet\"}, {\"id\": 44, \"description\": \"Remote Play Together\"}], \"genres\": [{\"id\": \"1\", \"description\": \"Action\"}], \"screenshots\": [{\"id\": 0, \"path_thumbnail\": \"https://cdn.akamai.steamstatic.com/steam/apps/70/0000002354.600x338.jpg?t=1683302000\", \"path_full\": \"https://cdn.akamai.steamstatic.com/steam/apps/70/0000002354.1920x1080.jpg?t=1683302000\"}, {\"id\": 1, \"path_thumbnail\": \"https://cdn.akamai.steamstatic.com/steam/apps/70/0000002343.600x338.jpg?t=1683302000\", \"path_full\": \"https://cdn.akamai.steamstatic.com/steam/apps/70/0000002343.1920x1080.jpg?t=1683302000\"}, {\"id\": 2, \"path_thumbnail\": \"https://cdn.akamai.steamstatic.com/steam/apps/70/0000002342.600x338.jpg?t=1683302000\", \"path_full\": \"https://cdn.akamai.steamstatic.com/steam/apps/70/0000002342.1920x1080.jpg?t=1683302000\"}, {\"id\": 3, \"path_thumbnail\": \"https://cdn.akamai.steamstatic.com/steam/apps/70/0000002344.600x338.jpg?t=1683302000\", \"path_full\": \"https://cdn.akamai.steamstatic.com/steam/apps/70/0000002344.1920x1080.jpg?t=1683302000\"}, {\"id\": 4, \"path_thumbnail\": \"https://cdn.akamai.steamstatic.com/steam/apps/70/0000002345.600x338.jpg?t=1683302000\", \"path_full\": \"https://cdn.akamai.steamstatic.com/steam/apps/70/0000002345.1920x1080.jpg?t=1683302000\"}, {\"id\": 5, \"path_thumbnail\": \"https://cdn.akamai.steamstatic.com/steam/apps/70/0000002352.600x338.jpg?t=1683302000\", \"path_full\": \"https://cdn.akamai.steamstatic.com/steam/apps/70/0000002352.1920x1080.jpg?t=1683302000\"}, {\"id\": 6, \"path_thumbnail\": \"https://cdn.akamai.steamstatic.com/steam/apps/70/0000002347.600x338.jpg?t=1683302000\", \"path_full\": \"https://cdn.akamai.steamstatic.com/steam/apps/70/0000002347.1920x1080.jpg?t=1683302000\"}, {\"id\": 7, \"path_thumbnail\": \"https://cdn.akamai.steamstatic.com/steam/apps/70/0000002348.600x338.jpg?t=1683302000\", \"path_full\": \"https://cdn.akamai.steamstatic.com/steam/apps/70/0000002348.1920x1080.jpg?t=1683302000\"}, {\"id\": 8, \"path_thumbnail\": \"https://cdn.akamai.steamstatic.com/steam/apps/70/0000002349.600x338.jpg?t=1683302000\", \"path_full\": \"https://cdn.akamai.steamstatic.com/steam/apps/70/0000002349.1920x1080.jpg?t=1683302000\"}, {\"id\": 9, \"path_thumbnail\": \"https://cdn.akamai.steamstatic.com/steam/apps/70/0000002350.600x338.jpg?t=1683302000\", \"path_full\": \"https://cdn.akamai.steamstatic.com/steam/apps/70/0000002350.1920x1080.jpg?t=1683302000\"}, {\"id\": 10, \"path_thumbnail\": \"https://cdn.akamai.steamstatic.com/steam/apps/70/0000002351.600x338.jpg?t=1683302000\", \"path_full\": \"https://cdn.akamai.steamstatic.com/steam/apps/70/0000002351.1920x1080.jpg?t=1683302000\"}], \"recommendations\": {\"total\": 71501}, \"release_date\": {\"coming_soon\": false, \"date\": \"Nov 8, 1998\"}, \"support_info\": {\"url\": \"http://steamcommunity.com/app/70\", \"email\": \"\"}, \"background\": \"https://cdn.akamai.steamstatic.com/steam/apps/70/page_bg_generated_v6b.jpg?t=1683302000\", \"background_raw\": \"https://cdn.akamai.steamstatic.com/steam/apps/70/page_bg_generated.jpg?t=1683302000\", \"content_descriptors\": {\"ids\": [], \"notes\": null}}}}'"
      ]
     },
     "execution_count": 11,
     "metadata": {},
     "output_type": "execute_result"
    }
   ],
   "source": [
    "steam.apps.get_app_details(teststeamlib['games'][0]['appid'])\n",
    "# oof does this return one long string?"
   ]
  },
  {
   "cell_type": "markdown",
   "id": "0909c1eb",
   "metadata": {},
   "source": [
    "Functions that I can't get to work:"
   ]
  },
  {
   "cell_type": "code",
   "execution_count": null,
   "id": "82c6a125",
   "metadata": {},
   "outputs": [],
   "source": [
    "steam.apps.get_user_stats(\"<steam_id>\", \"<app_id>\")"
   ]
  },
  {
   "cell_type": "code",
   "execution_count": null,
   "id": "37d1b642",
   "metadata": {},
   "outputs": [],
   "source": []
  }
 ],
 "metadata": {
  "kernelspec": {
   "display_name": "Python 3 (ipykernel)",
   "language": "python",
   "name": "python3"
  },
  "language_info": {
   "codemirror_mode": {
    "name": "ipython",
    "version": 3
   },
   "file_extension": ".py",
   "mimetype": "text/x-python",
   "name": "python",
   "nbconvert_exporter": "python",
   "pygments_lexer": "ipython3",
   "version": "3.10.9"
  }
 },
 "nbformat": 4,
 "nbformat_minor": 5
}
