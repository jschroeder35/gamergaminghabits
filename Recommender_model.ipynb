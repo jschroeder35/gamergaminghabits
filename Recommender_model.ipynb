{
 "cells": [
  {
   "cell_type": "code",
   "execution_count": null,
   "id": "b7d7e680",
   "metadata": {},
   "outputs": [],
   "source": [
    "import numpy as np\n",
    "import pandas as pd\n",
    "from sklearn.model_selection import train_test_split"
   ]
  },
  {
   "cell_type": "code",
   "execution_count": null,
   "id": "af6842c0",
   "metadata": {},
   "outputs": [],
   "source": [
    "df = pd.read_pickle('testingdf2.pkl')\n",
    "df = df.replace(pd.NA, np.nan)\n",
    "df"
   ]
  },
  {
   "cell_type": "code",
   "execution_count": null,
   "id": "f26bb237",
   "metadata": {},
   "outputs": [],
   "source": [
    "# This cell removes all zeroes from the dataframe, if uncommented.\n",
    "\n",
    "df = df.replace(np.nan, 0)\n",
    "df = df.replace(0, np.nan)\n",
    "df"
   ]
  },
  {
   "cell_type": "code",
   "execution_count": null,
   "id": "c3d0bc0e",
   "metadata": {},
   "outputs": [],
   "source": [
    "class MFRecommender():\n",
    "    \"\"\"\n",
    "    Matrix factorization recommender model object.\n",
    "    \n",
    "    Attributes:\n",
    "        game_weights (np.array): matrix of weights corresponding to user \n",
    "            profile weights for each game.\n",
    "        user_weights (np.array): matrix of weights corresponding to how to \n",
    "            represent each user as a linear combination of user profiles.\n",
    "        filled_entries (List[tuple(int)]): list of index pairs (i,j) of the\n",
    "            non-null entries of df. \n",
    "        lr (float): learning rate\n",
    "        l2 (float): size of the l2 penalty when fitting and predicting.\n",
    "        df (pd.DataFrame): pandas dataframe representing the sparse matrix\n",
    "            of data\n",
    "    \"\"\"\n",
    "    \n",
    "    \n",
    "    def __init__(self, df, k=7, lr=0.0001, l2=0.1, val_split=0.15):\n",
    "        \"\"\"\n",
    "        Initializes the model.\n",
    "        \n",
    "        Args:\n",
    "            df (pd.DataFrame): sparse dataframe of user playtime info.\n",
    "            k (int): Number of user profiles for the model.\n",
    "            lr (float): learning rate for SGD.\n",
    "            l2 (float): l2 penalty for training the weights.\n",
    "        \"\"\"\n",
    "        self.df = df\n",
    "        self.game_weights = np.random.rand(df.shape[0],k)\n",
    "        self.user_weights = np.random.rand(k, df.shape[1])\n",
    "        self.filled_entries = []\n",
    "        self.lr = lr\n",
    "        self.l2 = l2\n",
    "        for i in range(df.shape[0]):\n",
    "            for j in range(df.shape[1]):\n",
    "                if not pd.isna(df.iat[i,j]):\n",
    "                    self.filled_entries.append((i,j))\n",
    "        self.fe_train, self.fe_valid = train_test_split(self.filled_entries, \n",
    "                                                       test_size=val_split)\n",
    "        \n",
    "    \n",
    "    \n",
    "    def fit(self, epochs):\n",
    "        \"\"\"\n",
    "        Fits the model a certain number of epochs based on the df provided.\n",
    "        Args:\n",
    "            epochs (int): number of epochs to train the model\n",
    "        \"\"\"\n",
    "        for k in range(epochs):\n",
    "            print('Fitting epoch {}...'.format(k+1))\n",
    "            pred = np.matmul(self.game_weights, self.user_weights)\n",
    "            t_game_weights = np.copy(self.game_weights)\n",
    "            t_user_weights = np.copy(self.user_weights)\n",
    "            \n",
    "            # apply l2 penalty\n",
    "            self.game_weights = t_game_weights*(1 - self.lr*self.l2)\n",
    "            self.user_weights = t_user_weights*(1 - self.lr*self.l2)\n",
    "            \n",
    "            # Update with SGD\n",
    "            for i, j in self.fe_train:\n",
    "                for l in range(self.user_weights.shape[0]):\n",
    "                    diff = (self.df.iat[i,j]-pred[i,j])\n",
    "                    self.game_weights[i,l] += self.lr*t_user_weights[l,j]*diff\n",
    "                    self.user_weights[l,j] += self.lr*t_game_weights[i,l]*diff\n",
    "            print('Train MSE = {:.5f}     '.format(self.train_MSE())\n",
    "                 + 'Validation MSE = {:.5f}'.format(self.valid_MSE()))\n",
    "    \n",
    "    \n",
    "    def train_loss(self):\n",
    "        loss = 0\n",
    "        pred = np.matmul(self.game_weights, self.user_weights)\n",
    "        for i, j in self.fe_train:\n",
    "            # print(self.df.iat[i,j], pred[i,j])\n",
    "            loss += (self.df.iat[i,j] - pred[i,j])**2\n",
    "        return loss\n",
    "    \n",
    "    def valid_loss(self):\n",
    "        loss = 0\n",
    "        pred2 = np.matmul(self.game_weights, self.user_weights)\n",
    "        for i, j in self.fe_valid:\n",
    "            # print(self.df.iat[i,j], pred[i,j])\n",
    "            loss += (self.df.iat[i,j] - pred2[i,j])**2\n",
    "        return loss\n",
    "    \n",
    "    def train_MSE(self):\n",
    "        loss = 0\n",
    "        pred2 = np.matmul(self.game_weights, self.user_weights)\n",
    "        for i, j in self.fe_train:\n",
    "            # print(self.df.iat[i,j], pred[i,j])\n",
    "            loss += (self.df.iat[i,j] - pred2[i,j])**2\n",
    "        return loss/len(self.fe_train)\n",
    "    \n",
    "    def valid_MSE(self):\n",
    "        loss = 0\n",
    "        pred2 = np.matmul(self.game_weights, self.user_weights)\n",
    "        for i, j in self.fe_valid:\n",
    "            # print(self.df.iat[i,j], pred[i,j])\n",
    "            loss += (self.df.iat[i,j] - pred2[i,j])**2\n",
    "        return loss/len(self.fe_valid)\n",
    "    \n",
    "    def predict(self, user_data, epochs=100):\n",
    "        \"\"\"\n",
    "        Given the data for a user, returns the predicted playtime series.\n",
    "        \n",
    "        Args:\n",
    "            user_data (pd.series): sparse pandas series of user playtime\n",
    "            epochs (int): number of epochs to fit the user weights for\n",
    "                the user who's user data was entered.\n",
    "        \n",
    "        Returns (pd.series): filled pandas series of predicted playtime.\n",
    "        \"\"\"\n",
    "        user_profile = np.random.rand(self.user_weights.shape[0], 1)\n",
    "        \n",
    "        filled_indices = []\n",
    "        for j in range(user_data.shape[0]):\n",
    "            if not pd.isna(user_data.iat[j]):\n",
    "                filled_indices.append(j)\n",
    "        \n",
    "        for j in range(epochs):\n",
    "            #print('Fitting epoch {}...'.format(k+1))\n",
    "            pred2 = np.matmul(self.game_weights, user_profile)\n",
    "            #print(pred)\n",
    "            t_user_weights = np.copy(user_profile)\n",
    "            \n",
    "            # apply l2 penalty\n",
    "            user_profile = t_user_weights*(1 - self.lr*self.l2)\n",
    "            \n",
    "            # Update with SGD\n",
    "            for i in filled_indices:\n",
    "                for l in range(self.user_weights.shape[0]):\n",
    "                    diff = (user_data.iat[i]-pred2[i])\n",
    "                    user_profile[l] += self.lr*self.game_weights[i,l]*diff\n",
    "        \n",
    "        # return final prediction, converted to pandas\n",
    "        to_return = user_data.copy()\n",
    "        pred2 = np.matmul(self.game_weights, user_profile)\n",
    "        for j in range(to_return.shape[0]):\n",
    "            to_return.iat[j] = pred2[j]\n",
    "            \n",
    "        loss = 0\n",
    "        for i in filled_indices:\n",
    "            # print(self.df.iat[i,j], pred[i,j])\n",
    "            loss += (user_data.iat[i] - pred2[i])**2\n",
    "        print('MSE: {}'.format(loss/len(filled_indices)))\n",
    "        return to_return\n",
    "                \n",
    "                \n",
    "                \n",
    "        "
   ]
  },
  {
   "cell_type": "code",
   "execution_count": null,
   "id": "4f8fd3be",
   "metadata": {},
   "outputs": [],
   "source": [
    "# Note that the outliers in the data will prevent convergence unless we log-normalize first.\n",
    "\n",
    "log_df = df.applymap(lambda x: np.log10(x+1) if not np.isnan(x) else x)\n",
    "log_df"
   ]
  },
  {
   "cell_type": "code",
   "execution_count": null,
   "id": "68672736",
   "metadata": {},
   "outputs": [],
   "source": [
    "clf = MFRecommender(log_df, k=10)\n",
    "clf.fit(200)"
   ]
  },
  {
   "cell_type": "code",
   "execution_count": null,
   "id": "932037c8",
   "metadata": {},
   "outputs": [],
   "source": [
    "# validation MSE\n",
    "clf.valid_MSE()"
   ]
  },
  {
   "cell_type": "code",
   "execution_count": null,
   "id": "fddc20ad",
   "metadata": {},
   "outputs": [],
   "source": [
    "# save optimal weights to a file so it can be reloaded later\n",
    "np.save('./game_weights.npy', clf.game_weights)"
   ]
  },
  {
   "cell_type": "code",
   "execution_count": null,
   "id": "5ccb559e",
   "metadata": {},
   "outputs": [],
   "source": [
    "# Make a scatterplot of predicted values vs input values.\n",
    "import matplotlib.pyplot as plt\n",
    "def convert(x):\n",
    "    return 10**x -1\n",
    "\n",
    "tlist = [[], []]\n",
    "pred = np.matmul(clf.game_weights, clf.user_weights)\n",
    "for i, j in clf.fe_valid:\n",
    "    tlist[0].append(clf.df.iat[i,j])\n",
    "    tlist[1].append(pred[i, j])\n",
    "\n",
    "plt.scatter(x=tlist[0], y= tlist[1], alpha=0.05)\n",
    "plt.show()"
   ]
  },
  {
   "cell_type": "code",
   "execution_count": null,
   "id": "bc816ad6",
   "metadata": {},
   "outputs": [],
   "source": [
    "import matplotlib.pyplot as plt\n",
    "plt.style.use('seaborn-v0_8')\n",
    "# plt.style.use('bmh')\n",
    "plt.hist(tlist, bins=100)\n",
    "plt.title('Distribution of user playtimes')\n",
    "plt.yscale('log')\n",
    "plt.xlabel('playtime in min')\n",
    "plt.ylabel('count')\n",
    "plt.show()"
   ]
  },
  {
   "cell_type": "code",
   "execution_count": null,
   "id": "ada3b75a",
   "metadata": {},
   "outputs": [],
   "source": [
    "# Histogram of playtime values. Data seems to be log normally distributed.\n",
    "dataframe = log_df\n",
    "tlist = []\n",
    "for i in range(len(clf.filled_entries)):\n",
    "    j, k = clf.filled_entries[i]\n",
    "    tlist.append(dataframe.iat[j, k])\n",
    "    \n",
    "plt.style.use('seaborn-v0_8')\n",
    "# plt.style.use('bmh')\n",
    "plt.hist(tlist, bins=100)\n",
    "plt.title('Distribution of log user playtimes')\n",
    "plt.xlabel('log_10(playtime) in min')\n",
    "plt.ylabel('count')\n",
    "plt.show()"
   ]
  },
  {
   "cell_type": "code",
   "execution_count": null,
   "id": "1f3a05ab",
   "metadata": {},
   "outputs": [],
   "source": [
    "#try testing with a new user\n",
    "from steam import Steam\n",
    "from decouple import config\n",
    "with open(\"myapikey.txt\", \"r\") as file:\n",
    "    myapikey=file.read()\n",
    "    \n",
    "import os\n",
    "os.environ[\"STEAM_API_KEY\"] = myapikey\n",
    "KEY = config(\"STEAM_API_KEY\")\n",
    "steam = Steam(KEY)\n",
    "\n",
    "gamenames=pd.read_pickle('gamenames.pkl')\n",
    "gameprice=pd.read_pickle('gameprice.pkl')\n",
    "\n",
    "pd.options.display.max_rows = 986"
   ]
  },
  {
   "cell_type": "code",
   "execution_count": null,
   "id": "8a3473f6",
   "metadata": {},
   "outputs": [],
   "source": [
    "gameprice2=[]\n",
    "\n",
    "for price in gameprice:\n",
    "    lenp=len(price)\n",
    "    if len(price)>1:\n",
    "        price2=price[:(lenp-2)]+'.'+price[(lenp-2):]\n",
    "    else:\n",
    "        price2=price\n",
    "    price2=float(price2)\n",
    "    gameprice2.append(price2)\n",
    "    \n",
    "gameprice2"
   ]
  },
  {
   "cell_type": "code",
   "execution_count": null,
   "id": "7f65bb79",
   "metadata": {},
   "outputs": [],
   "source": [
    "testid='76561198039393086'"
   ]
  },
  {
   "cell_type": "code",
   "execution_count": null,
   "id": "b308bb4e",
   "metadata": {},
   "outputs": [],
   "source": [
    "testsgamelist=steam.users.get_owned_games(testid)"
   ]
  },
  {
   "cell_type": "code",
   "execution_count": null,
   "id": "5867d939",
   "metadata": {},
   "outputs": [],
   "source": [
    "#make a column of user's gametime to use with trained model\n",
    "\n",
    "testcol=pd.Series(np.nan,index=df.index)\n",
    "for i in range(testsgamelist['game_count']):\n",
    "    appid=testsgamelist['games'][i]['appid']\n",
    "    if appid in df.index:\n",
    "        if testsgamelist['games'][i]['playtime_forever']>0:\n",
    "            testcol[appid]=testsgamelist['games'][i]['playtime_forever']"
   ]
  },
  {
   "cell_type": "code",
   "execution_count": null,
   "id": "910baaca",
   "metadata": {},
   "outputs": [],
   "source": [
    "testfit=clf.predict(np.log10(testcol+1))"
   ]
  },
  {
   "cell_type": "code",
   "execution_count": null,
   "id": "eaefff4c",
   "metadata": {},
   "outputs": [],
   "source": [
    "#makes a dataframe of the top 10 games by predicted playtime\n",
    "results1=pd.DataFrame({'game_name':gamenames,'prediction (hours)':((10**testfit)-1)/60.})\n",
    "results1.sort_values(\"prediction (hours)\",ascending=False).head(10).round(1)"
   ]
  },
  {
   "cell_type": "code",
   "execution_count": null,
   "id": "f5513b32",
   "metadata": {},
   "outputs": [],
   "source": [
    "#makes a dataframe of the lowest 10 games by game price/predicted playtime\n",
    "results2=pd.DataFrame({'game_name':gamenames,'predicted cost/playtime (dollars/hour)':gameprice2/(((10**testfit)-1)/60)})\n",
    "results2=results2.loc[results2['predicted cost/playtime (dollars/hour)']>0]\n",
    "results2.sort_values(\"predicted cost/playtime (dollars/hour)\").round(2).head(10)"
   ]
  }
 ],
 "metadata": {
  "kernelspec": {
   "display_name": "Python 3 (ipykernel)",
   "language": "python",
   "name": "python3"
  },
  "language_info": {
   "codemirror_mode": {
    "name": "ipython",
    "version": 3
   },
   "file_extension": ".py",
   "mimetype": "text/x-python",
   "name": "python",
   "nbconvert_exporter": "python",
   "pygments_lexer": "ipython3",
   "version": "3.10.9"
  }
 },
 "nbformat": 4,
 "nbformat_minor": 5
}
