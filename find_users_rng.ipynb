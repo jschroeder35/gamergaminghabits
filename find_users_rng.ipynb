{
 "cells": [
  {
   "cell_type": "code",
   "execution_count": null,
   "id": "9c2e629e",
   "metadata": {},
   "outputs": [],
   "source": [
    "from steam import Steam\n",
    "from decouple import config\n",
    "\n",
    "with open(\"myapikey.txt\", \"r\") as file:\n",
    "    myapikey=file.read()\n",
    "\n",
    "import os\n",
    "os.environ[\"STEAM_API_KEY\"] = myapikey\n",
    "KEY = config(\"STEAM_API_KEY\")\n",
    "steam = Steam(KEY)"
   ]
  },
  {
   "cell_type": "code",
   "execution_count": null,
   "id": "203d0942",
   "metadata": {},
   "outputs": [],
   "source": [
    "# This cell generates the random User ID's\n",
    "import random\n",
    "from time import sleep\n",
    "import pickle\n",
    "\n",
    "num_ids=500  # number of random user ID's to sample\n",
    "\n",
    "id_set = set()\n",
    "while len(id_set) < num_ids:\n",
    "    temp = str(76561198000000000 + random.randint(-10000000, 100000000))\n",
    "    \n",
    "    # Check that user ID has not already been used before writing to a set\n",
    "    if temp not in id_set:\n",
    "        id_set.add(temp)\n",
    "        \n",
    "id_list = list(id_set)"
   ]
  },
  {
   "cell_type": "code",
   "execution_count": null,
   "id": "1adf8fc0",
   "metadata": {},
   "outputs": [],
   "source": [
    "# This cell iterates over the random user ID's, queries the api, and periodically\n",
    "# writes output to a file. \n",
    "\n",
    "valid_data = []\n",
    "valid_ids = []\n",
    "file_num = 0  # tracks number of files outputted so far.\n",
    "users_in_file = 10  # number of user's data for each file\n",
    "\n",
    "for j in range(len(id_list)):\n",
    "    # Pull owned games from the api\n",
    "    temp = steam.users.get_owned_games(id_list[j])\n",
    "    \n",
    "    # assuming output is nonempty, write to the \"valid_data\" list\n",
    "    if len(temp) != 0:\n",
    "        valid_data.append([id_list[j], temp])\n",
    "        valid_ids.append(id_list[j])\n",
    "    if (j % int(num_ids/100)) == 0:\n",
    "        print('progress: {:.2f}%'.format(100*j/num_ids))\n",
    "    sleep(1)\n",
    "    \n",
    "    # Periodically write to a file, in case of crashes, etc.\n",
    "    if len(valid_data) == users_in_file:\n",
    "        with open('./raw_data/game_data_{}.pkl'.format(file_num), 'wb') as fp:\n",
    "            pickle.dump(valid_data, fp)\n",
    "        valid_data = []\n",
    "        file_num+=1\n",
    "\n",
    "# Write leftover data to a last file\n",
    "with open('./raw_data/game_data_{}.pkl'.format(file_num), 'wb') as fp:\n",
    "    pickle.dump(valid_data, fp)\n",
    "    \n",
    "with open('valid_ids.pkl', 'wb') as fp:\n",
    "    pickle.dump(valid_ids, fp)    "
   ]
  },
  {
   "cell_type": "code",
   "execution_count": null,
   "id": "8db1aa62",
   "metadata": {},
   "outputs": [],
   "source": [
    "# This is the syntax to load the data from the pkl files. \n",
    "# loaded_data will be the name of the python list with the data from the file.\n",
    "with open ('./raw_data/game_data_0.pkl', 'rb') as fp:\n",
    "    loaded_data = pickle.load(fp)\n",
    "loaded_data"
   ]
  }
 ],
 "metadata": {
  "kernelspec": {
   "display_name": "Python 3 (ipykernel)",
   "language": "python",
   "name": "python3"
  },
  "language_info": {
   "codemirror_mode": {
    "name": "ipython",
    "version": 3
   },
   "file_extension": ".py",
   "mimetype": "text/x-python",
   "name": "python",
   "nbconvert_exporter": "python",
   "pygments_lexer": "ipython3",
   "version": "3.10.9"
  }
 },
 "nbformat": 4,
 "nbformat_minor": 5
}
