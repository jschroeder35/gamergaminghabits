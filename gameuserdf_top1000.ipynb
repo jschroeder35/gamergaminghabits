{
 "cells": [
  {
   "cell_type": "code",
   "execution_count": 1,
   "id": "147559fe",
   "metadata": {},
   "outputs": [],
   "source": [
    "import glob\n",
    "import pickle\n",
    "import pandas as pd\n",
    "import numpy as np"
   ]
  },
  {
   "cell_type": "code",
   "execution_count": 2,
   "id": "f5200f85",
   "metadata": {},
   "outputs": [],
   "source": [
    "myf=glob.glob(\"./raw_data/*/*.pkl\")\n",
    "\n",
    "users=[]\n",
    "\n",
    "for filename in myf:\n",
    "    with open (filename, 'rb') as file:\n",
    "        users = users + pickle.load(file)\n",
    "        \n",
    "with open ('top1000games_may29_347pm.pkl', 'rb') as fp:\n",
    "    games = pickle.load(fp)\n",
    "\n",
    "games = list(map(int, games))\n",
    "    \n",
    "#dictionary to hold number of users \n",
    "gamesnusers=dict.fromkeys(games,0)\n",
    "\n",
    "for user in users:\n",
    "    for i in range(user[1]['game_count']):\n",
    "        appid=user[1]['games'][i]['appid']\n",
    "        if appid in games:\n",
    "            gamesnusers[appid]+=1"
   ]
  },
  {
   "cell_type": "code",
   "execution_count": 3,
   "id": "d13139b9",
   "metadata": {},
   "outputs": [
    {
     "data": {
      "text/plain": [
       "570        5007\n",
       "1172470    3028\n",
       "730        7061\n",
       "578080     4654\n",
       "1063730     870\n",
       "           ... \n",
       "335330      225\n",
       "21090       495\n",
       "1259970     120\n",
       "57900       268\n",
       "337950      200\n",
       "Length: 1000, dtype: int64"
      ]
     },
     "execution_count": 3,
     "metadata": {},
     "output_type": "execute_result"
    }
   ],
   "source": [
    "gamesnu_ser=pd.Series(gamesnusers.values(),index=gamesnusers.keys())\n",
    "gamesnu_ser"
   ]
  },
  {
   "cell_type": "code",
   "execution_count": 4,
   "id": "ca87a7da",
   "metadata": {},
   "outputs": [
    {
     "data": {
      "text/plain": [
       "570        5007\n",
       "1172470    3028\n",
       "730        7061\n",
       "578080     4654\n",
       "1063730     870\n",
       "           ... \n",
       "335330      225\n",
       "21090       495\n",
       "1259970     120\n",
       "57900       268\n",
       "337950      200\n",
       "Length: 986, dtype: int64"
      ]
     },
     "execution_count": 4,
     "metadata": {},
     "output_type": "execute_result"
    }
   ],
   "source": [
    "gamesnu_ser2=gamesnu_ser.loc[gamesnu_ser>0]\n",
    "gamesnu_ser2"
   ]
  },
  {
   "cell_type": "code",
   "execution_count": 6,
   "id": "236ba860",
   "metadata": {},
   "outputs": [],
   "source": [
    "#gup = games,users,playtimes dataframe\n",
    "#make game ids the rows\n",
    "#make player ids the columns\n",
    "#entries will be the total playtime in that game\n",
    "\n",
    "gupdf=pd.DataFrame(index=gamesnu_ser2.index)"
   ]
  },
  {
   "cell_type": "code",
   "execution_count": 16,
   "id": "b0dd12c5",
   "metadata": {},
   "outputs": [
    {
     "ename": "KeyboardInterrupt",
     "evalue": "",
     "output_type": "error",
     "traceback": [
      "\u001b[1;31m---------------------------------------------------------------------------\u001b[0m",
      "\u001b[1;31mKeyboardInterrupt\u001b[0m                         Traceback (most recent call last)",
      "Cell \u001b[1;32mIn[16], line 8\u001b[0m\n\u001b[0;32m      6\u001b[0m         usercol[appid]\u001b[38;5;241m=\u001b[39muser[\u001b[38;5;241m1\u001b[39m][\u001b[38;5;124m'\u001b[39m\u001b[38;5;124mgames\u001b[39m\u001b[38;5;124m'\u001b[39m][i][\u001b[38;5;124m'\u001b[39m\u001b[38;5;124mplaytime_forever\u001b[39m\u001b[38;5;124m'\u001b[39m]\n\u001b[0;32m      7\u001b[0m     gupdf[\u001b[38;5;28mint\u001b[39m(user[\u001b[38;5;241m0\u001b[39m])]\u001b[38;5;241m=\u001b[39musercol\n\u001b[1;32m----> 8\u001b[0m defrag\u001b[38;5;241m=\u001b[39m\u001b[43mgupdf\u001b[49m\u001b[38;5;241;43m.\u001b[39;49m\u001b[43mcopy\u001b[49m\u001b[43m(\u001b[49m\u001b[43m)\u001b[49m\n\u001b[0;32m      9\u001b[0m \u001b[38;5;28;01mdel\u001b[39;00m(gupdf)\n\u001b[0;32m     10\u001b[0m gupdf\u001b[38;5;241m=\u001b[39mdefrag\n",
      "File \u001b[1;32m~\\miniconda3\\lib\\site-packages\\pandas\\core\\generic.py:6368\u001b[0m, in \u001b[0;36mNDFrame.copy\u001b[1;34m(self, deep)\u001b[0m\n\u001b[0;32m   6258\u001b[0m \u001b[38;5;129m@final\u001b[39m\n\u001b[0;32m   6259\u001b[0m \u001b[38;5;28;01mdef\u001b[39;00m \u001b[38;5;21mcopy\u001b[39m(\u001b[38;5;28mself\u001b[39m: NDFrameT, deep: bool_t \u001b[38;5;241m|\u001b[39m \u001b[38;5;28;01mNone\u001b[39;00m \u001b[38;5;241m=\u001b[39m \u001b[38;5;28;01mTrue\u001b[39;00m) \u001b[38;5;241m-\u001b[39m\u001b[38;5;241m>\u001b[39m NDFrameT:\n\u001b[0;32m   6260\u001b[0m     \u001b[38;5;124;03m\"\"\"\u001b[39;00m\n\u001b[0;32m   6261\u001b[0m \u001b[38;5;124;03m    Make a copy of this object's indices and data.\u001b[39;00m\n\u001b[0;32m   6262\u001b[0m \n\u001b[1;32m   (...)\u001b[0m\n\u001b[0;32m   6366\u001b[0m \u001b[38;5;124;03m    dtype: object\u001b[39;00m\n\u001b[0;32m   6367\u001b[0m \u001b[38;5;124;03m    \"\"\"\u001b[39;00m\n\u001b[1;32m-> 6368\u001b[0m     data \u001b[38;5;241m=\u001b[39m \u001b[38;5;28;43mself\u001b[39;49m\u001b[38;5;241;43m.\u001b[39;49m\u001b[43m_mgr\u001b[49m\u001b[38;5;241;43m.\u001b[39;49m\u001b[43mcopy\u001b[49m\u001b[43m(\u001b[49m\u001b[43mdeep\u001b[49m\u001b[38;5;241;43m=\u001b[39;49m\u001b[43mdeep\u001b[49m\u001b[43m)\u001b[49m\n\u001b[0;32m   6369\u001b[0m     \u001b[38;5;28mself\u001b[39m\u001b[38;5;241m.\u001b[39m_clear_item_cache()\n\u001b[0;32m   6370\u001b[0m     \u001b[38;5;28;01mreturn\u001b[39;00m \u001b[38;5;28mself\u001b[39m\u001b[38;5;241m.\u001b[39m_constructor(data)\u001b[38;5;241m.\u001b[39m__finalize__(\u001b[38;5;28mself\u001b[39m, method\u001b[38;5;241m=\u001b[39m\u001b[38;5;124m\"\u001b[39m\u001b[38;5;124mcopy\u001b[39m\u001b[38;5;124m\"\u001b[39m)\n",
      "File \u001b[1;32m~\\miniconda3\\lib\\site-packages\\pandas\\core\\internals\\managers.py:649\u001b[0m, in \u001b[0;36mBaseBlockManager.copy\u001b[1;34m(self, deep)\u001b[0m\n\u001b[0;32m    646\u001b[0m \u001b[38;5;28;01melse\u001b[39;00m:\n\u001b[0;32m    647\u001b[0m     new_axes \u001b[38;5;241m=\u001b[39m \u001b[38;5;28mlist\u001b[39m(\u001b[38;5;28mself\u001b[39m\u001b[38;5;241m.\u001b[39maxes)\n\u001b[1;32m--> 649\u001b[0m res \u001b[38;5;241m=\u001b[39m \u001b[38;5;28;43mself\u001b[39;49m\u001b[38;5;241;43m.\u001b[39;49m\u001b[43mapply\u001b[49m\u001b[43m(\u001b[49m\u001b[38;5;124;43m\"\u001b[39;49m\u001b[38;5;124;43mcopy\u001b[39;49m\u001b[38;5;124;43m\"\u001b[39;49m\u001b[43m,\u001b[49m\u001b[43m \u001b[49m\u001b[43mdeep\u001b[49m\u001b[38;5;241;43m=\u001b[39;49m\u001b[43mdeep\u001b[49m\u001b[43m)\u001b[49m\n\u001b[0;32m    650\u001b[0m new_refs: \u001b[38;5;28mlist\u001b[39m[weakref\u001b[38;5;241m.\u001b[39mref \u001b[38;5;241m|\u001b[39m \u001b[38;5;28;01mNone\u001b[39;00m] \u001b[38;5;241m|\u001b[39m \u001b[38;5;28;01mNone\u001b[39;00m\n\u001b[0;32m    651\u001b[0m \u001b[38;5;28;01mif\u001b[39;00m deep:\n",
      "File \u001b[1;32m~\\miniconda3\\lib\\site-packages\\pandas\\core\\internals\\managers.py:352\u001b[0m, in \u001b[0;36mBaseBlockManager.apply\u001b[1;34m(self, f, align_keys, ignore_failures, **kwargs)\u001b[0m\n\u001b[0;32m    350\u001b[0m         applied \u001b[38;5;241m=\u001b[39m b\u001b[38;5;241m.\u001b[39mapply(f, \u001b[38;5;241m*\u001b[39m\u001b[38;5;241m*\u001b[39mkwargs)\n\u001b[0;32m    351\u001b[0m     \u001b[38;5;28;01melse\u001b[39;00m:\n\u001b[1;32m--> 352\u001b[0m         applied \u001b[38;5;241m=\u001b[39m \u001b[38;5;28mgetattr\u001b[39m(b, f)(\u001b[38;5;241m*\u001b[39m\u001b[38;5;241m*\u001b[39mkwargs)\n\u001b[0;32m    353\u001b[0m \u001b[38;5;28;01mexcept\u001b[39;00m (\u001b[38;5;167;01mTypeError\u001b[39;00m, \u001b[38;5;167;01mNotImplementedError\u001b[39;00m):\n\u001b[0;32m    354\u001b[0m     \u001b[38;5;28;01mif\u001b[39;00m \u001b[38;5;129;01mnot\u001b[39;00m ignore_failures:\n",
      "File \u001b[1;32m~\\miniconda3\\lib\\site-packages\\pandas\\core\\internals\\blocks.py:549\u001b[0m, in \u001b[0;36mBlock.copy\u001b[1;34m(self, deep)\u001b[0m\n\u001b[0;32m    547\u001b[0m values \u001b[38;5;241m=\u001b[39m \u001b[38;5;28mself\u001b[39m\u001b[38;5;241m.\u001b[39mvalues\n\u001b[0;32m    548\u001b[0m \u001b[38;5;28;01mif\u001b[39;00m deep:\n\u001b[1;32m--> 549\u001b[0m     values \u001b[38;5;241m=\u001b[39m \u001b[43mvalues\u001b[49m\u001b[38;5;241;43m.\u001b[39;49m\u001b[43mcopy\u001b[49m\u001b[43m(\u001b[49m\u001b[43m)\u001b[49m\n\u001b[0;32m    550\u001b[0m \u001b[38;5;28;01mreturn\u001b[39;00m \u001b[38;5;28mtype\u001b[39m(\u001b[38;5;28mself\u001b[39m)(values, placement\u001b[38;5;241m=\u001b[39m\u001b[38;5;28mself\u001b[39m\u001b[38;5;241m.\u001b[39m_mgr_locs, ndim\u001b[38;5;241m=\u001b[39m\u001b[38;5;28mself\u001b[39m\u001b[38;5;241m.\u001b[39mndim)\n",
      "\u001b[1;31mKeyboardInterrupt\u001b[0m: "
     ]
    }
   ],
   "source": [
    "for user in users:\n",
    "    usercol=pd.Series(np.nan,index=gupdf.index)\n",
    "    for i in range(user[1]['game_count']):\n",
    "        appid=user[1]['games'][i]['appid']\n",
    "        if appid in gupdf.index:\n",
    "            usercol[appid]=user[1]['games'][i]['playtime_forever']\n",
    "        gupdf[int(user[0])]=usercol\n",
    "    defrag=gupdf.copy()\n",
    "    del(gupdf)\n",
    "    gupdf=defrag\n",
    "    del(defrag)"
   ]
  },
  {
   "cell_type": "code",
   "execution_count": 10,
   "id": "d7dc4958",
   "metadata": {},
   "outputs": [
    {
     "data": {
      "text/plain": [
       "570            NaN\n",
       "1172470        NaN\n",
       "730        52631.0\n",
       "578080      7881.0\n",
       "1063730        NaN\n",
       "            ...   \n",
       "335330         NaN\n",
       "21090          NaN\n",
       "1259970        NaN\n",
       "57900          NaN\n",
       "337950         NaN\n",
       "Length: 986, dtype: float64"
      ]
     },
     "execution_count": 10,
     "metadata": {},
     "output_type": "execute_result"
    }
   ],
   "source": [
    "usercol"
   ]
  },
  {
   "cell_type": "code",
   "execution_count": 14,
   "id": "f46172f5",
   "metadata": {},
   "outputs": [
    {
     "data": {
      "text/html": [
       "<div>\n",
       "<style scoped>\n",
       "    .dataframe tbody tr th:only-of-type {\n",
       "        vertical-align: middle;\n",
       "    }\n",
       "\n",
       "    .dataframe tbody tr th {\n",
       "        vertical-align: top;\n",
       "    }\n",
       "\n",
       "    .dataframe thead th {\n",
       "        text-align: right;\n",
       "    }\n",
       "</style>\n",
       "<table border=\"1\" class=\"dataframe\">\n",
       "  <thead>\n",
       "    <tr style=\"text-align: right;\">\n",
       "      <th></th>\n",
       "      <th>76561198153524465</th>\n",
       "    </tr>\n",
       "  </thead>\n",
       "  <tbody>\n",
       "    <tr>\n",
       "      <th>570</th>\n",
       "      <td>NaN</td>\n",
       "    </tr>\n",
       "    <tr>\n",
       "      <th>1172470</th>\n",
       "      <td>NaN</td>\n",
       "    </tr>\n",
       "    <tr>\n",
       "      <th>730</th>\n",
       "      <td>52631.0</td>\n",
       "    </tr>\n",
       "    <tr>\n",
       "      <th>578080</th>\n",
       "      <td>7881.0</td>\n",
       "    </tr>\n",
       "    <tr>\n",
       "      <th>1063730</th>\n",
       "      <td>NaN</td>\n",
       "    </tr>\n",
       "    <tr>\n",
       "      <th>...</th>\n",
       "      <td>...</td>\n",
       "    </tr>\n",
       "    <tr>\n",
       "      <th>335330</th>\n",
       "      <td>NaN</td>\n",
       "    </tr>\n",
       "    <tr>\n",
       "      <th>21090</th>\n",
       "      <td>NaN</td>\n",
       "    </tr>\n",
       "    <tr>\n",
       "      <th>1259970</th>\n",
       "      <td>NaN</td>\n",
       "    </tr>\n",
       "    <tr>\n",
       "      <th>57900</th>\n",
       "      <td>NaN</td>\n",
       "    </tr>\n",
       "    <tr>\n",
       "      <th>337950</th>\n",
       "      <td>NaN</td>\n",
       "    </tr>\n",
       "  </tbody>\n",
       "</table>\n",
       "<p>986 rows × 1 columns</p>\n",
       "</div>"
      ],
      "text/plain": [
       "         76561198153524465\n",
       "570                    NaN\n",
       "1172470                NaN\n",
       "730                52631.0\n",
       "578080              7881.0\n",
       "1063730                NaN\n",
       "...                    ...\n",
       "335330                 NaN\n",
       "21090                  NaN\n",
       "1259970                NaN\n",
       "57900                  NaN\n",
       "337950                 NaN\n",
       "\n",
       "[986 rows x 1 columns]"
      ]
     },
     "execution_count": 14,
     "metadata": {},
     "output_type": "execute_result"
    }
   ],
   "source": [
    "gupdf"
   ]
  },
  {
   "cell_type": "code",
   "execution_count": 8,
   "id": "4eaaae0f",
   "metadata": {},
   "outputs": [
    {
     "data": {
      "text/plain": [
       "570       NaN\n",
       "1172470   NaN\n",
       "730       NaN\n",
       "578080    NaN\n",
       "1063730   NaN\n",
       "           ..\n",
       "335330    NaN\n",
       "21090     NaN\n",
       "1259970   NaN\n",
       "57900     NaN\n",
       "337950    NaN\n",
       "Length: 986, dtype: float64"
      ]
     },
     "execution_count": 8,
     "metadata": {},
     "output_type": "execute_result"
    }
   ],
   "source": [
    "usercol=pd.Series(np.nan,index=gupdf.index)\n",
    "usercol"
   ]
  },
  {
   "cell_type": "code",
   "execution_count": null,
   "id": "3a05bb23",
   "metadata": {},
   "outputs": [],
   "source": []
  }
 ],
 "metadata": {
  "kernelspec": {
   "display_name": "Python 3 (ipykernel)",
   "language": "python",
   "name": "python3"
  },
  "language_info": {
   "codemirror_mode": {
    "name": "ipython",
    "version": 3
   },
   "file_extension": ".py",
   "mimetype": "text/x-python",
   "name": "python",
   "nbconvert_exporter": "python",
   "pygments_lexer": "ipython3",
   "version": "3.10.9"
  }
 },
 "nbformat": 4,
 "nbformat_minor": 5
}
